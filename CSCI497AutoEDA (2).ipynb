{
 "cells": [
  {
   "cell_type": "markdown",
   "id": "3918b9c9-3c15-441b-a479-6c12ffdc07c0",
   "metadata": {},
   "source": [
    "## Auto EDA\n",
    "### Functions\n",
    "- Analyze ()\n",
    "- Compare ()\n",
    "- Compare_intra()"
   ]
  },
  {
   "cell_type": "code",
   "execution_count": 2,
   "id": "a2d5c02f-b38a-4962-ad24-fc038bc25de4",
   "metadata": {},
   "outputs": [],
   "source": [
    "# install sweetviz\n",
    "#!pip install sweetviz"
   ]
  },
  {
   "cell_type": "code",
   "execution_count": 1,
   "id": "b2c8c82b-d8c8-474c-afce-cef39f777794",
   "metadata": {},
   "outputs": [],
   "source": [
    "#pip install \"pandas==1.5.3\""
   ]
  },
  {
   "cell_type": "code",
   "execution_count": 3,
   "id": "a5f58b28-822b-4602-8aca-6c0fa8354388",
   "metadata": {},
   "outputs": [],
   "source": [
    "#pip install --upgrade sweetviz"
   ]
  },
  {
   "cell_type": "code",
   "execution_count": 1,
   "id": "a0e0bdc6-0a3d-4d0d-b01b-f2265b9fe853",
   "metadata": {},
   "outputs": [
    {
     "name": "stdout",
     "output_type": "stream",
     "text": [
      "Requirement already satisfied: sweetviz==2.1.4 in ./.venv/lib/python3.12/site-packages (2.1.4)\n",
      "Requirement already satisfied: pandas==1.5.3 in ./.venv/lib/python3.12/site-packages (1.5.3)\n",
      "Requirement already satisfied: numpy>=1.16.0 in ./.venv/lib/python3.12/site-packages (from sweetviz==2.1.4) (1.26.4)\n",
      "Requirement already satisfied: matplotlib>=3.1.3 in ./.venv/lib/python3.12/site-packages (from sweetviz==2.1.4) (3.10.6)\n",
      "Requirement already satisfied: tqdm>=4.43.0 in ./.venv/lib/python3.12/site-packages (from sweetviz==2.1.4) (4.67.1)\n",
      "Requirement already satisfied: scipy>=1.3.2 in ./.venv/lib/python3.12/site-packages (from sweetviz==2.1.4) (1.16.1)\n",
      "Requirement already satisfied: jinja2>=2.11.1 in ./.venv/lib/python3.12/site-packages (from sweetviz==2.1.4) (3.1.6)\n",
      "Requirement already satisfied: importlib-resources>=1.2.0 in ./.venv/lib/python3.12/site-packages (from sweetviz==2.1.4) (6.5.2)\n",
      "Requirement already satisfied: python-dateutil>=2.8.1 in ./.venv/lib/python3.12/site-packages (from pandas==1.5.3) (2.9.0.post0)\n",
      "Requirement already satisfied: pytz>=2020.1 in ./.venv/lib/python3.12/site-packages (from pandas==1.5.3) (2025.2)\n",
      "Requirement already satisfied: MarkupSafe>=2.0 in ./.venv/lib/python3.12/site-packages (from jinja2>=2.11.1->sweetviz==2.1.4) (3.0.2)\n",
      "Requirement already satisfied: contourpy>=1.0.1 in ./.venv/lib/python3.12/site-packages (from matplotlib>=3.1.3->sweetviz==2.1.4) (1.3.3)\n",
      "Requirement already satisfied: cycler>=0.10 in ./.venv/lib/python3.12/site-packages (from matplotlib>=3.1.3->sweetviz==2.1.4) (0.12.1)\n",
      "Requirement already satisfied: fonttools>=4.22.0 in ./.venv/lib/python3.12/site-packages (from matplotlib>=3.1.3->sweetviz==2.1.4) (4.59.2)\n",
      "Requirement already satisfied: kiwisolver>=1.3.1 in ./.venv/lib/python3.12/site-packages (from matplotlib>=3.1.3->sweetviz==2.1.4) (1.4.9)\n",
      "Requirement already satisfied: packaging>=20.0 in ./.venv/lib/python3.12/site-packages (from matplotlib>=3.1.3->sweetviz==2.1.4) (25.0)\n",
      "Requirement already satisfied: pillow>=8 in ./.venv/lib/python3.12/site-packages (from matplotlib>=3.1.3->sweetviz==2.1.4) (11.3.0)\n",
      "Requirement already satisfied: pyparsing>=2.3.1 in ./.venv/lib/python3.12/site-packages (from matplotlib>=3.1.3->sweetviz==2.1.4) (3.2.3)\n",
      "Requirement already satisfied: six>=1.5 in ./.venv/lib/python3.12/site-packages (from python-dateutil>=2.8.1->pandas==1.5.3) (1.17.0)\n",
      "Note: you may need to restart the kernel to use updated packages.\n"
     ]
    }
   ],
   "source": [
    "pip install \"sweetviz==2.1.4\" \"pandas==1.5.3\""
   ]
  },
  {
   "cell_type": "code",
   "execution_count": 2,
   "id": "a8f9d2dc-6288-4073-8b69-ec04e0171191",
   "metadata": {},
   "outputs": [],
   "source": [
    "# Load the data\n",
    "import pandas as pd\n",
    "data_q1 = pd.read_csv(\"Q1_final.csv\")"
   ]
  },
  {
   "cell_type": "code",
   "execution_count": 3,
   "id": "5bb61c0b-3833-4483-ac6e-9bd70c25cd65",
   "metadata": {},
   "outputs": [],
   "source": [
    "data_q2 = pd.read_csv(\"Q2_scaled.csv\")"
   ]
  },
  {
   "cell_type": "code",
   "execution_count": 4,
   "id": "df096202-591c-4470-be7a-ad621b20ef42",
   "metadata": {},
   "outputs": [
    {
     "name": "stderr",
     "output_type": "stream",
     "text": [
      "/Users/mirac/PycharmProjects/PythonProject2/.venv/lib/python3.12/site-packages/sweetviz/graph.py:8: UserWarning: pkg_resources is deprecated as an API. See https://setuptools.pypa.io/en/latest/pkg_resources.html. The pkg_resources package is slated for removal as early as 2025-11-30. Refrain from using this package or pin to Setuptools<81.\n",
      "  from pkg_resources import resource_filename\n"
     ]
    }
   ],
   "source": [
    "import sweetviz as sv"
   ]
  },
  {
   "cell_type": "code",
   "execution_count": 29,
   "id": "25c07fc4-f7c2-4f88-b5bf-c7d06c0b1020",
   "metadata": {},
   "outputs": [],
   "source": [
    "import sweetviz.series_analyzer as sa\n",
    "import pandas as pd\n",
    "\n",
    "sa.get_counts = lambda series: series.value_counts(dropna=False).reset_index().rename(columns={series.name:\"index\"}).set_index(\"index\").iloc[:,0]\n"
   ]
  },
  {
   "cell_type": "code",
   "execution_count": 6,
   "id": "39c8c9f0-2b43-4eb8-a485-8e6065d86ba1",
   "metadata": {},
   "outputs": [
    {
     "name": "stdout",
     "output_type": "stream",
     "text": [
      "<class 'pandas.core.frame.DataFrame'>\n",
      "RangeIndex: 1725 entries, 0 to 1724\n",
      "Data columns (total 17 columns):\n",
      " #   Column                  Non-Null Count  Dtype  \n",
      "---  ------                  --------------  -----  \n",
      " 0   Unnamed: 0              1725 non-null   int64  \n",
      " 1   Life expectancy         1723 non-null   float64\n",
      " 2   Adult Mortality         1723 non-null   float64\n",
      " 3   infant deaths           1725 non-null   int64  \n",
      " 4   Alcohol                 1608 non-null   float64\n",
      " 5   percentage expenditure  1725 non-null   float64\n",
      " 6   Measles                 1725 non-null   int64  \n",
      " 7    BMI                    1709 non-null   float64\n",
      " 8   under-five deaths       1725 non-null   int64  \n",
      " 9   Polio                   1714 non-null   float64\n",
      " 10  Total expenditure       1612 non-null   float64\n",
      " 11  Diphtheria              1714 non-null   float64\n",
      " 12   HIV/AIDS               1725 non-null   float64\n",
      " 13  GDP                     1725 non-null   float64\n",
      " 14  Population              1725 non-null   float64\n",
      " 15  thinness  1-19 years    1709 non-null   float64\n",
      " 16  Schooling               1725 non-null   float64\n",
      "dtypes: float64(13), int64(4)\n",
      "memory usage: 229.2 KB\n"
     ]
    }
   ],
   "source": [
    "data_q1.info()"
   ]
  },
  {
   "cell_type": "code",
   "execution_count": 7,
   "id": "581a0740-ad30-4324-871c-e7ab0f8ae060",
   "metadata": {},
   "outputs": [],
   "source": [
    "data_q1 = data_q1.drop(columns=[\"Unnamed: 0\"], errors=\"ignore\")"
   ]
  },
  {
   "cell_type": "code",
   "execution_count": 8,
   "id": "5a74aaf3-92c0-4cf3-baec-4e193a2dde25",
   "metadata": {},
   "outputs": [
    {
     "data": {
      "text/html": [
       "<div>\n",
       "<style scoped>\n",
       "    .dataframe tbody tr th:only-of-type {\n",
       "        vertical-align: middle;\n",
       "    }\n",
       "\n",
       "    .dataframe tbody tr th {\n",
       "        vertical-align: top;\n",
       "    }\n",
       "\n",
       "    .dataframe thead th {\n",
       "        text-align: right;\n",
       "    }\n",
       "</style>\n",
       "<table border=\"1\" class=\"dataframe\">\n",
       "  <thead>\n",
       "    <tr style=\"text-align: right;\">\n",
       "      <th></th>\n",
       "      <th>Life expectancy</th>\n",
       "      <th>Adult Mortality</th>\n",
       "      <th>infant deaths</th>\n",
       "      <th>Alcohol</th>\n",
       "      <th>percentage expenditure</th>\n",
       "      <th>Measles</th>\n",
       "      <th>BMI</th>\n",
       "      <th>under-five deaths</th>\n",
       "      <th>Polio</th>\n",
       "      <th>Total expenditure</th>\n",
       "      <th>Diphtheria</th>\n",
       "      <th>HIV/AIDS</th>\n",
       "      <th>GDP</th>\n",
       "      <th>Population</th>\n",
       "      <th>thinness  1-19 years</th>\n",
       "      <th>Schooling</th>\n",
       "    </tr>\n",
       "  </thead>\n",
       "  <tbody>\n",
       "    <tr>\n",
       "      <th>0</th>\n",
       "      <td>59.9</td>\n",
       "      <td>271.0</td>\n",
       "      <td>64</td>\n",
       "      <td>0.01</td>\n",
       "      <td>73.523582</td>\n",
       "      <td>492</td>\n",
       "      <td>18.6</td>\n",
       "      <td>86</td>\n",
       "      <td>58.0</td>\n",
       "      <td>8.18</td>\n",
       "      <td>62.0</td>\n",
       "      <td>0.1</td>\n",
       "      <td>612.696514</td>\n",
       "      <td>572.347796</td>\n",
       "      <td>17.5</td>\n",
       "      <td>10.0</td>\n",
       "    </tr>\n",
       "    <tr>\n",
       "      <th>1</th>\n",
       "      <td>59.5</td>\n",
       "      <td>272.0</td>\n",
       "      <td>69</td>\n",
       "      <td>0.01</td>\n",
       "      <td>78.184215</td>\n",
       "      <td>2787</td>\n",
       "      <td>17.6</td>\n",
       "      <td>93</td>\n",
       "      <td>67.0</td>\n",
       "      <td>8.52</td>\n",
       "      <td>67.0</td>\n",
       "      <td>0.1</td>\n",
       "      <td>669.959000</td>\n",
       "      <td>1922.747513</td>\n",
       "      <td>17.9</td>\n",
       "      <td>9.8</td>\n",
       "    </tr>\n",
       "    <tr>\n",
       "      <th>2</th>\n",
       "      <td>59.2</td>\n",
       "      <td>275.0</td>\n",
       "      <td>71</td>\n",
       "      <td>0.01</td>\n",
       "      <td>7.097109</td>\n",
       "      <td>3013</td>\n",
       "      <td>17.2</td>\n",
       "      <td>97</td>\n",
       "      <td>68.0</td>\n",
       "      <td>7.87</td>\n",
       "      <td>68.0</td>\n",
       "      <td>0.1</td>\n",
       "      <td>63.537231</td>\n",
       "      <td>1725.861814</td>\n",
       "      <td>18.2</td>\n",
       "      <td>9.5</td>\n",
       "    </tr>\n",
       "    <tr>\n",
       "      <th>3</th>\n",
       "      <td>58.8</td>\n",
       "      <td>279.0</td>\n",
       "      <td>74</td>\n",
       "      <td>0.01</td>\n",
       "      <td>79.679367</td>\n",
       "      <td>1989</td>\n",
       "      <td>16.7</td>\n",
       "      <td>102</td>\n",
       "      <td>66.0</td>\n",
       "      <td>9.20</td>\n",
       "      <td>66.0</td>\n",
       "      <td>0.1</td>\n",
       "      <td>553.328940</td>\n",
       "      <td>1697.989105</td>\n",
       "      <td>18.4</td>\n",
       "      <td>9.2</td>\n",
       "    </tr>\n",
       "    <tr>\n",
       "      <th>4</th>\n",
       "      <td>58.6</td>\n",
       "      <td>281.0</td>\n",
       "      <td>77</td>\n",
       "      <td>0.01</td>\n",
       "      <td>56.762217</td>\n",
       "      <td>2861</td>\n",
       "      <td>16.2</td>\n",
       "      <td>106</td>\n",
       "      <td>63.0</td>\n",
       "      <td>9.42</td>\n",
       "      <td>63.0</td>\n",
       "      <td>0.1</td>\n",
       "      <td>445.893298</td>\n",
       "      <td>533.226969</td>\n",
       "      <td>18.6</td>\n",
       "      <td>8.9</td>\n",
       "    </tr>\n",
       "  </tbody>\n",
       "</table>\n",
       "</div>"
      ],
      "text/plain": [
       "   Life expectancy   Adult Mortality  infant deaths  Alcohol  \\\n",
       "0              59.9            271.0             64     0.01   \n",
       "1              59.5            272.0             69     0.01   \n",
       "2              59.2            275.0             71     0.01   \n",
       "3              58.8            279.0             74     0.01   \n",
       "4              58.6            281.0             77     0.01   \n",
       "\n",
       "   percentage expenditure  Measles    BMI   under-five deaths   Polio  \\\n",
       "0               73.523582       492   18.6                  86   58.0   \n",
       "1               78.184215      2787   17.6                  93   67.0   \n",
       "2                7.097109      3013   17.2                  97   68.0   \n",
       "3               79.679367      1989   16.7                 102   66.0   \n",
       "4               56.762217      2861   16.2                 106   63.0   \n",
       "\n",
       "   Total expenditure  Diphtheria    HIV/AIDS         GDP   Population  \\\n",
       "0               8.18         62.0        0.1  612.696514   572.347796   \n",
       "1               8.52         67.0        0.1  669.959000  1922.747513   \n",
       "2               7.87         68.0        0.1   63.537231  1725.861814   \n",
       "3               9.20         66.0        0.1  553.328940  1697.989105   \n",
       "4               9.42         63.0        0.1  445.893298   533.226969   \n",
       "\n",
       "   thinness  1-19 years  Schooling  \n",
       "0                  17.5       10.0  \n",
       "1                  17.9        9.8  \n",
       "2                  18.2        9.5  \n",
       "3                  18.4        9.2  \n",
       "4                  18.6        8.9  "
      ]
     },
     "execution_count": 8,
     "metadata": {},
     "output_type": "execute_result"
    }
   ],
   "source": [
    "data_q1.head()"
   ]
  },
  {
   "cell_type": "code",
   "execution_count": 9,
   "id": "167c6844-2532-457d-9316-b89c5321c8a8",
   "metadata": {},
   "outputs": [],
   "source": [
    "data_q1 = data_q1.dropna(subset = ['Life expectancy '])"
   ]
  },
  {
   "cell_type": "code",
   "execution_count": 30,
   "id": "a5b30f78-68bc-4180-af2d-355ad81e1fda",
   "metadata": {},
   "outputs": [
    {
     "name": "stdout",
     "output_type": "stream",
     "text": [
      "[\"'index'\", \"'Life expectancy '\", \"'Adult Mortality'\", \"'infant deaths'\", \"'Alcohol'\", \"'percentage expenditure'\", \"'Measles '\", \"' BMI '\", \"'under-five deaths '\", \"'Polio'\", \"'Total expenditure'\", \"'Diphtheria '\", \"' HIV/AIDS'\", \"'GDP'\", \"'Population'\", \"'thinness  1-19 years'\", \"'Schooling'\"]\n",
      "Exact match? False\n"
     ]
    }
   ],
   "source": [
    "# Show colums to see all characters\n",
    "print([repr(c) for c in data_q1.columns])\n",
    "\n",
    "# Check exact match\n",
    "print(\"Exact match?\",\n",
    "      \"Life expectancy\" in data_q1.columns)"
   ]
  },
  {
   "cell_type": "code",
   "execution_count": 11,
   "id": "a69bd5fd-51f2-4a30-9605-040cae085c23",
   "metadata": {},
   "outputs": [],
   "source": [
    "data_q1 = data_q1.reset_index()"
   ]
  },
  {
   "cell_type": "code",
   "execution_count": 12,
   "id": "4878b540-d1f7-4160-8f09-3ef0c8323eb4",
   "metadata": {},
   "outputs": [
    {
     "name": "stdout",
     "output_type": "stream",
     "text": [
      "'index'\n",
      "'Life expectancy '\n",
      "'Adult Mortality'\n",
      "'infant deaths'\n",
      "'Alcohol'\n",
      "'percentage expenditure'\n",
      "'Measles '\n",
      "' BMI '\n",
      "'under-five deaths '\n",
      "'Polio'\n",
      "'Total expenditure'\n",
      "'Diphtheria '\n",
      "' HIV/AIDS'\n",
      "'GDP'\n",
      "'Population'\n",
      "'thinness  1-19 years'\n",
      "'Schooling'\n"
     ]
    }
   ],
   "source": [
    "for c in data_q1.columns:\n",
    "    print(repr(c))\n"
   ]
  },
  {
   "cell_type": "code",
   "execution_count": null,
   "id": "c8c9bacc-a775-4f80-82aa-f85e2bb9c8be",
   "metadata": {},
   "outputs": [],
   "source": [
    "\n"
   ]
  },
  {
   "cell_type": "code",
   "execution_count": 13,
   "id": "5340ce71-83a4-40aa-8e62-d2a6b977c5be",
   "metadata": {},
   "outputs": [
    {
     "name": "stderr",
     "output_type": "stream",
     "text": [
      "/Users/mirac/PycharmProjects/PythonProject2/.venv/lib/python3.12/site-packages/sweetviz/dataframe_report.py:74: FutureWarning: iteritems is deprecated and will be removed in a future version. Use .items instead.\n",
      "  all_source_names = [cur_name for cur_name, cur_series in source_df.iteritems()]\n",
      "/Users/mirac/PycharmProjects/PythonProject2/.venv/lib/python3.12/site-packages/sweetviz/dataframe_report.py:109: FutureWarning: iteritems is deprecated and will be removed in a future version. Use .items instead.\n",
      "  filtered_series_names_in_source = [cur_name for cur_name, cur_series in source_df.iteritems()\n"
     ]
    },
    {
     "data": {
      "application/vnd.jupyter.widget-view+json": {
       "model_id": "167ab5bbd01b436db9d734f3b125db18",
       "version_major": 2,
       "version_minor": 0
      },
      "text/plain": [
       "                                             |         | [  0%]   00:00 -> (? left)"
      ]
     },
     "metadata": {},
     "output_type": "display_data"
    },
    {
     "name": "stderr",
     "output_type": "stream",
     "text": [
      "/Users/mirac/PycharmProjects/PythonProject2/.venv/lib/python3.12/site-packages/sweetviz/series_analyzer_numeric.py:25: FutureWarning: The 'mad' method is deprecated and will be removed in a future version. To compute the same result, you may do `(df - df.mean()).abs().mean()`.\n",
      "  stats[\"mad\"] = series.mad()\n",
      "/Users/mirac/PycharmProjects/PythonProject2/.venv/lib/python3.12/site-packages/sweetviz/series_analyzer_numeric.py:25: FutureWarning: The 'mad' method is deprecated and will be removed in a future version. To compute the same result, you may do `(df - df.mean()).abs().mean()`.\n",
      "  stats[\"mad\"] = series.mad()\n",
      "/Users/mirac/PycharmProjects/PythonProject2/.venv/lib/python3.12/site-packages/sweetviz/series_analyzer_numeric.py:25: FutureWarning: The 'mad' method is deprecated and will be removed in a future version. To compute the same result, you may do `(df - df.mean()).abs().mean()`.\n",
      "  stats[\"mad\"] = series.mad()\n",
      "/Users/mirac/PycharmProjects/PythonProject2/.venv/lib/python3.12/site-packages/sweetviz/series_analyzer_numeric.py:25: FutureWarning: The 'mad' method is deprecated and will be removed in a future version. To compute the same result, you may do `(df - df.mean()).abs().mean()`.\n",
      "  stats[\"mad\"] = series.mad()\n",
      "/Users/mirac/PycharmProjects/PythonProject2/.venv/lib/python3.12/site-packages/sweetviz/series_analyzer_numeric.py:25: FutureWarning: The 'mad' method is deprecated and will be removed in a future version. To compute the same result, you may do `(df - df.mean()).abs().mean()`.\n",
      "  stats[\"mad\"] = series.mad()\n",
      "/Users/mirac/PycharmProjects/PythonProject2/.venv/lib/python3.12/site-packages/sweetviz/series_analyzer_numeric.py:25: FutureWarning: The 'mad' method is deprecated and will be removed in a future version. To compute the same result, you may do `(df - df.mean()).abs().mean()`.\n",
      "  stats[\"mad\"] = series.mad()\n",
      "/Users/mirac/PycharmProjects/PythonProject2/.venv/lib/python3.12/site-packages/sweetviz/series_analyzer_numeric.py:25: FutureWarning: The 'mad' method is deprecated and will be removed in a future version. To compute the same result, you may do `(df - df.mean()).abs().mean()`.\n",
      "  stats[\"mad\"] = series.mad()\n",
      "/Users/mirac/PycharmProjects/PythonProject2/.venv/lib/python3.12/site-packages/sweetviz/series_analyzer_numeric.py:25: FutureWarning: The 'mad' method is deprecated and will be removed in a future version. To compute the same result, you may do `(df - df.mean()).abs().mean()`.\n",
      "  stats[\"mad\"] = series.mad()\n",
      "/Users/mirac/PycharmProjects/PythonProject2/.venv/lib/python3.12/site-packages/sweetviz/series_analyzer_numeric.py:25: FutureWarning: The 'mad' method is deprecated and will be removed in a future version. To compute the same result, you may do `(df - df.mean()).abs().mean()`.\n",
      "  stats[\"mad\"] = series.mad()\n",
      "/Users/mirac/PycharmProjects/PythonProject2/.venv/lib/python3.12/site-packages/sweetviz/series_analyzer_numeric.py:25: FutureWarning: The 'mad' method is deprecated and will be removed in a future version. To compute the same result, you may do `(df - df.mean()).abs().mean()`.\n",
      "  stats[\"mad\"] = series.mad()\n",
      "/Users/mirac/PycharmProjects/PythonProject2/.venv/lib/python3.12/site-packages/sweetviz/series_analyzer_numeric.py:25: FutureWarning: The 'mad' method is deprecated and will be removed in a future version. To compute the same result, you may do `(df - df.mean()).abs().mean()`.\n",
      "  stats[\"mad\"] = series.mad()\n",
      "/Users/mirac/PycharmProjects/PythonProject2/.venv/lib/python3.12/site-packages/sweetviz/series_analyzer_numeric.py:25: FutureWarning: The 'mad' method is deprecated and will be removed in a future version. To compute the same result, you may do `(df - df.mean()).abs().mean()`.\n",
      "  stats[\"mad\"] = series.mad()\n",
      "/Users/mirac/PycharmProjects/PythonProject2/.venv/lib/python3.12/site-packages/sweetviz/series_analyzer_numeric.py:25: FutureWarning: The 'mad' method is deprecated and will be removed in a future version. To compute the same result, you may do `(df - df.mean()).abs().mean()`.\n",
      "  stats[\"mad\"] = series.mad()\n",
      "/Users/mirac/PycharmProjects/PythonProject2/.venv/lib/python3.12/site-packages/sweetviz/series_analyzer_numeric.py:25: FutureWarning: The 'mad' method is deprecated and will be removed in a future version. To compute the same result, you may do `(df - df.mean()).abs().mean()`.\n",
      "  stats[\"mad\"] = series.mad()\n",
      "/Users/mirac/PycharmProjects/PythonProject2/.venv/lib/python3.12/site-packages/sweetviz/series_analyzer_numeric.py:25: FutureWarning: The 'mad' method is deprecated and will be removed in a future version. To compute the same result, you may do `(df - df.mean()).abs().mean()`.\n",
      "  stats[\"mad\"] = series.mad()\n",
      "/Users/mirac/PycharmProjects/PythonProject2/.venv/lib/python3.12/site-packages/sweetviz/series_analyzer_numeric.py:25: FutureWarning: The 'mad' method is deprecated and will be removed in a future version. To compute the same result, you may do `(df - df.mean()).abs().mean()`.\n",
      "  stats[\"mad\"] = series.mad()\n"
     ]
    },
    {
     "name": "stdout",
     "output_type": "stream",
     "text": [
      "Report sweetviz_q1.html was generated.\n",
      "Sweetviz report saved to sweetviz_q1.html\n"
     ]
    },
    {
     "name": "stderr",
     "output_type": "stream",
     "text": [
      "/Users/mirac/PycharmProjects/PythonProject2/.venv/lib/python3.12/site-packages/sweetviz/series_analyzer_numeric.py:25: FutureWarning: The 'mad' method is deprecated and will be removed in a future version. To compute the same result, you may do `(df - df.mean()).abs().mean()`.\n",
      "  stats[\"mad\"] = series.mad()\n"
     ]
    }
   ],
   "source": [
    "# Create Data Frame\n",
    "\n",
    "import pandas as pd\n",
    "import sweetviz as sv\n",
    "import importlib\n",
    "import sweetviz.series_analyzer as sa\n",
    "import numpy as np, warnings\n",
    "np.warnings = warnings \n",
    "\n",
    "importlib.reload(sa)\n",
    "\n",
    "# Clean data\n",
    "df = data_q1.copy()\n",
    "df.columns = df.columns.str.strip()       \n",
    "\n",
    "target = \"Life expectancy\"                 \n",
    "df[target] = pd.to_numeric(df[target], errors=\"coerce\")\n",
    "df = df[df[target].notna()].copy()\n",
    "\n",
    "report = sv.analyze(df, target_feat=target, pairwise_analysis=\"off\")\n",
    "report.show_html(\"sweetviz_q1.html\", open_browser=False)\n",
    "print(\"Sweetviz report saved to sweetviz_q1.html\")\n"
   ]
  },
  {
   "cell_type": "code",
   "execution_count": 25,
   "id": "d980265b-bb38-42e7-b25a-5c892f962391",
   "metadata": {},
   "outputs": [
    {
     "data": {
      "text/html": [
       "\n",
       "        <iframe\n",
       "            width=\"1000\"\n",
       "            height=\"600\"\n",
       "            src=\"sweetviz_q1.html\"\n",
       "            frameborder=\"0\"\n",
       "            allowfullscreen\n",
       "            \n",
       "        ></iframe>\n",
       "        "
      ],
      "text/plain": [
       "<IPython.lib.display.IFrame at 0x1699571a0>"
      ]
     },
     "execution_count": 25,
     "metadata": {},
     "output_type": "execute_result"
    }
   ],
   "source": [
    "from IPython.display import IFrame\n",
    "IFrame(src='sweetviz_q1.html', width=1000, height=600)\n"
   ]
  },
  {
   "cell_type": "code",
   "execution_count": null,
   "id": "7fa6e724-3990-4aa7-926c-0c857c78c5a2",
   "metadata": {},
   "outputs": [],
   "source": []
  },
  {
   "cell_type": "code",
   "execution_count": 15,
   "id": "37b85cf9-1a31-40a2-a6fe-f1d380cc8ea6",
   "metadata": {},
   "outputs": [
    {
     "name": "stderr",
     "output_type": "stream",
     "text": [
      "/Users/mirac/PycharmProjects/PythonProject2/.venv/lib/python3.12/site-packages/sweetviz/dataframe_report.py:74: FutureWarning: iteritems is deprecated and will be removed in a future version. Use .items instead.\n",
      "  all_source_names = [cur_name for cur_name, cur_series in source_df.iteritems()]\n",
      "/Users/mirac/PycharmProjects/PythonProject2/.venv/lib/python3.12/site-packages/sweetviz/dataframe_report.py:109: FutureWarning: iteritems is deprecated and will be removed in a future version. Use .items instead.\n",
      "  filtered_series_names_in_source = [cur_name for cur_name, cur_series in source_df.iteritems()\n"
     ]
    },
    {
     "data": {
      "application/vnd.jupyter.widget-view+json": {
       "model_id": "87d8fce2d7544b84bfdfca1b5fa89d4d",
       "version_major": 2,
       "version_minor": 0
      },
      "text/plain": [
       "                                             |         | [  0%]   00:00 -> (? left)"
      ]
     },
     "metadata": {},
     "output_type": "display_data"
    },
    {
     "name": "stderr",
     "output_type": "stream",
     "text": [
      "/Users/mirac/PycharmProjects/PythonProject2/.venv/lib/python3.12/site-packages/sweetviz/series_analyzer_numeric.py:25: FutureWarning: The 'mad' method is deprecated and will be removed in a future version. To compute the same result, you may do `(df - df.mean()).abs().mean()`.\n",
      "  stats[\"mad\"] = series.mad()\n",
      "/Users/mirac/PycharmProjects/PythonProject2/.venv/lib/python3.12/site-packages/sweetviz/series_analyzer_numeric.py:25: FutureWarning: The 'mad' method is deprecated and will be removed in a future version. To compute the same result, you may do `(df - df.mean()).abs().mean()`.\n",
      "  stats[\"mad\"] = series.mad()\n",
      "/Users/mirac/PycharmProjects/PythonProject2/.venv/lib/python3.12/site-packages/sweetviz/series_analyzer_numeric.py:25: FutureWarning: The 'mad' method is deprecated and will be removed in a future version. To compute the same result, you may do `(df - df.mean()).abs().mean()`.\n",
      "  stats[\"mad\"] = series.mad()\n",
      "/Users/mirac/PycharmProjects/PythonProject2/.venv/lib/python3.12/site-packages/sweetviz/series_analyzer_numeric.py:25: FutureWarning: The 'mad' method is deprecated and will be removed in a future version. To compute the same result, you may do `(df - df.mean()).abs().mean()`.\n",
      "  stats[\"mad\"] = series.mad()\n",
      "/Users/mirac/PycharmProjects/PythonProject2/.venv/lib/python3.12/site-packages/sweetviz/series_analyzer_numeric.py:25: FutureWarning: The 'mad' method is deprecated and will be removed in a future version. To compute the same result, you may do `(df - df.mean()).abs().mean()`.\n",
      "  stats[\"mad\"] = series.mad()\n",
      "/Users/mirac/PycharmProjects/PythonProject2/.venv/lib/python3.12/site-packages/sweetviz/series_analyzer_numeric.py:25: FutureWarning: The 'mad' method is deprecated and will be removed in a future version. To compute the same result, you may do `(df - df.mean()).abs().mean()`.\n",
      "  stats[\"mad\"] = series.mad()\n",
      "/Users/mirac/PycharmProjects/PythonProject2/.venv/lib/python3.12/site-packages/sweetviz/series_analyzer_numeric.py:25: FutureWarning: The 'mad' method is deprecated and will be removed in a future version. To compute the same result, you may do `(df - df.mean()).abs().mean()`.\n",
      "  stats[\"mad\"] = series.mad()\n",
      "/Users/mirac/PycharmProjects/PythonProject2/.venv/lib/python3.12/site-packages/sweetviz/series_analyzer_numeric.py:25: FutureWarning: The 'mad' method is deprecated and will be removed in a future version. To compute the same result, you may do `(df - df.mean()).abs().mean()`.\n",
      "  stats[\"mad\"] = series.mad()\n",
      "/Users/mirac/PycharmProjects/PythonProject2/.venv/lib/python3.12/site-packages/sweetviz/series_analyzer_numeric.py:25: FutureWarning: The 'mad' method is deprecated and will be removed in a future version. To compute the same result, you may do `(df - df.mean()).abs().mean()`.\n",
      "  stats[\"mad\"] = series.mad()\n",
      "/Users/mirac/PycharmProjects/PythonProject2/.venv/lib/python3.12/site-packages/sweetviz/series_analyzer_numeric.py:25: FutureWarning: The 'mad' method is deprecated and will be removed in a future version. To compute the same result, you may do `(df - df.mean()).abs().mean()`.\n",
      "  stats[\"mad\"] = series.mad()\n",
      "/Users/mirac/PycharmProjects/PythonProject2/.venv/lib/python3.12/site-packages/sweetviz/series_analyzer_numeric.py:25: FutureWarning: The 'mad' method is deprecated and will be removed in a future version. To compute the same result, you may do `(df - df.mean()).abs().mean()`.\n",
      "  stats[\"mad\"] = series.mad()\n",
      "/Users/mirac/PycharmProjects/PythonProject2/.venv/lib/python3.12/site-packages/sweetviz/series_analyzer_numeric.py:25: FutureWarning: The 'mad' method is deprecated and will be removed in a future version. To compute the same result, you may do `(df - df.mean()).abs().mean()`.\n",
      "  stats[\"mad\"] = series.mad()\n",
      "/Users/mirac/PycharmProjects/PythonProject2/.venv/lib/python3.12/site-packages/sweetviz/series_analyzer_numeric.py:25: FutureWarning: The 'mad' method is deprecated and will be removed in a future version. To compute the same result, you may do `(df - df.mean()).abs().mean()`.\n",
      "  stats[\"mad\"] = series.mad()\n",
      "/Users/mirac/PycharmProjects/PythonProject2/.venv/lib/python3.12/site-packages/sweetviz/series_analyzer_numeric.py:25: FutureWarning: The 'mad' method is deprecated and will be removed in a future version. To compute the same result, you may do `(df - df.mean()).abs().mean()`.\n",
      "  stats[\"mad\"] = series.mad()\n",
      "/Users/mirac/PycharmProjects/PythonProject2/.venv/lib/python3.12/site-packages/sweetviz/series_analyzer_numeric.py:25: FutureWarning: The 'mad' method is deprecated and will be removed in a future version. To compute the same result, you may do `(df - df.mean()).abs().mean()`.\n",
      "  stats[\"mad\"] = series.mad()\n",
      "/Users/mirac/PycharmProjects/PythonProject2/.venv/lib/python3.12/site-packages/sweetviz/series_analyzer_numeric.py:25: FutureWarning: The 'mad' method is deprecated and will be removed in a future version. To compute the same result, you may do `(df - df.mean()).abs().mean()`.\n",
      "  stats[\"mad\"] = series.mad()\n",
      "/Users/mirac/PycharmProjects/PythonProject2/.venv/lib/python3.12/site-packages/sweetviz/series_analyzer_numeric.py:25: FutureWarning: The 'mad' method is deprecated and will be removed in a future version. To compute the same result, you may do `(df - df.mean()).abs().mean()`.\n",
      "  stats[\"mad\"] = series.mad()\n"
     ]
    }
   ],
   "source": [
    "import sweetviz as sv\n",
    "import numpy as np, warnings\n",
    "\n",
    "np.warnings = warnings\n",
    "\n",
    "df2 = data_q2.copy()\n",
    "df2.columns = df2.columns.str.strip()  \n",
    "\n",
    "target2 = \"Life expectancy\"\n",
    "\n",
    "df2[target2] = pd.to_numeric(df2[target2], errors=\"coerce\")\n",
    "df2 = df2[df2[target2].notna()].copy()\n",
    "\n",
    "report2 = sv.analyze(df2, target_feat=target2, pairwise_analysis=\"off\")\n"
   ]
  },
  {
   "cell_type": "code",
   "execution_count": 17,
   "id": "ca1b1847-4b31-4266-9f5c-f366912e94d5",
   "metadata": {},
   "outputs": [
    {
     "data": {
      "text/html": [
       "\n",
       "        <iframe\n",
       "            width=\"1000\"\n",
       "            height=\"600\"\n",
       "            src=\"sweetviz_q2.html\"\n",
       "            frameborder=\"0\"\n",
       "            allowfullscreen\n",
       "            \n",
       "        ></iframe>\n",
       "        "
      ],
      "text/plain": [
       "<IPython.lib.display.IFrame at 0x3107ba120>"
      ]
     },
     "execution_count": 17,
     "metadata": {},
     "output_type": "execute_result"
    }
   ],
   "source": [
    "from IPython.display import IFrame\n",
    "IFrame(\"sweetviz_q2.html\", width=1000, height=600)\n"
   ]
  },
  {
   "cell_type": "code",
   "execution_count": null,
   "id": "43bcdcad-95a5-46a1-8e66-bf4061c89470",
   "metadata": {},
   "outputs": [],
   "source": []
  },
  {
   "cell_type": "markdown",
   "id": "11a9d73c-ca23-46e3-9196-122a0be6eaa1",
   "metadata": {},
   "source": [
    "## Compare the two datasets "
   ]
  },
  {
   "cell_type": "code",
   "execution_count": 20,
   "id": "5bc66683-acd6-4d3f-810c-163ae2434325",
   "metadata": {},
   "outputs": [
    {
     "name": "stderr",
     "output_type": "stream",
     "text": [
      "/Users/mirac/PycharmProjects/PythonProject2/.venv/lib/python3.12/site-packages/sweetviz/dataframe_report.py:74: FutureWarning: iteritems is deprecated and will be removed in a future version. Use .items instead.\n",
      "  all_source_names = [cur_name for cur_name, cur_series in source_df.iteritems()]\n",
      "/Users/mirac/PycharmProjects/PythonProject2/.venv/lib/python3.12/site-packages/sweetviz/dataframe_report.py:92: FutureWarning: iteritems is deprecated and will be removed in a future version. Use .items instead.\n",
      "  all_compare_names = [cur_name for cur_name, cur_series in compare_df.iteritems()]\n",
      "/Users/mirac/PycharmProjects/PythonProject2/.venv/lib/python3.12/site-packages/sweetviz/dataframe_report.py:109: FutureWarning: iteritems is deprecated and will be removed in a future version. Use .items instead.\n",
      "  filtered_series_names_in_source = [cur_name for cur_name, cur_series in source_df.iteritems()\n"
     ]
    },
    {
     "data": {
      "application/vnd.jupyter.widget-view+json": {
       "model_id": "782c31e4646c4449ad58a936ab60713f",
       "version_major": 2,
       "version_minor": 0
      },
      "text/plain": [
       "                                             |         | [  0%]   00:00 -> (? left)"
      ]
     },
     "metadata": {},
     "output_type": "display_data"
    },
    {
     "name": "stderr",
     "output_type": "stream",
     "text": [
      "/Users/mirac/PycharmProjects/PythonProject2/.venv/lib/python3.12/site-packages/sweetviz/series_analyzer_numeric.py:25: FutureWarning: The 'mad' method is deprecated and will be removed in a future version. To compute the same result, you may do `(df - df.mean()).abs().mean()`.\n",
      "  stats[\"mad\"] = series.mad()\n",
      "/Users/mirac/PycharmProjects/PythonProject2/.venv/lib/python3.12/site-packages/sweetviz/series_analyzer_numeric.py:25: FutureWarning: The 'mad' method is deprecated and will be removed in a future version. To compute the same result, you may do `(df - df.mean()).abs().mean()`.\n",
      "  stats[\"mad\"] = series.mad()\n",
      "/Users/mirac/PycharmProjects/PythonProject2/.venv/lib/python3.12/site-packages/sweetviz/series_analyzer_numeric.py:25: FutureWarning: The 'mad' method is deprecated and will be removed in a future version. To compute the same result, you may do `(df - df.mean()).abs().mean()`.\n",
      "  stats[\"mad\"] = series.mad()\n",
      "/Users/mirac/PycharmProjects/PythonProject2/.venv/lib/python3.12/site-packages/sweetviz/series_analyzer_numeric.py:25: FutureWarning: The 'mad' method is deprecated and will be removed in a future version. To compute the same result, you may do `(df - df.mean()).abs().mean()`.\n",
      "  stats[\"mad\"] = series.mad()\n",
      "/Users/mirac/PycharmProjects/PythonProject2/.venv/lib/python3.12/site-packages/sweetviz/series_analyzer_numeric.py:25: FutureWarning: The 'mad' method is deprecated and will be removed in a future version. To compute the same result, you may do `(df - df.mean()).abs().mean()`.\n",
      "  stats[\"mad\"] = series.mad()\n",
      "/Users/mirac/PycharmProjects/PythonProject2/.venv/lib/python3.12/site-packages/sweetviz/series_analyzer_numeric.py:25: FutureWarning: The 'mad' method is deprecated and will be removed in a future version. To compute the same result, you may do `(df - df.mean()).abs().mean()`.\n",
      "  stats[\"mad\"] = series.mad()\n",
      "/Users/mirac/PycharmProjects/PythonProject2/.venv/lib/python3.12/site-packages/sweetviz/series_analyzer_numeric.py:25: FutureWarning: The 'mad' method is deprecated and will be removed in a future version. To compute the same result, you may do `(df - df.mean()).abs().mean()`.\n",
      "  stats[\"mad\"] = series.mad()\n",
      "/Users/mirac/PycharmProjects/PythonProject2/.venv/lib/python3.12/site-packages/sweetviz/series_analyzer_numeric.py:25: FutureWarning: The 'mad' method is deprecated and will be removed in a future version. To compute the same result, you may do `(df - df.mean()).abs().mean()`.\n",
      "  stats[\"mad\"] = series.mad()\n",
      "/Users/mirac/PycharmProjects/PythonProject2/.venv/lib/python3.12/site-packages/sweetviz/series_analyzer_numeric.py:25: FutureWarning: The 'mad' method is deprecated and will be removed in a future version. To compute the same result, you may do `(df - df.mean()).abs().mean()`.\n",
      "  stats[\"mad\"] = series.mad()\n",
      "/Users/mirac/PycharmProjects/PythonProject2/.venv/lib/python3.12/site-packages/sweetviz/series_analyzer_numeric.py:25: FutureWarning: The 'mad' method is deprecated and will be removed in a future version. To compute the same result, you may do `(df - df.mean()).abs().mean()`.\n",
      "  stats[\"mad\"] = series.mad()\n",
      "/Users/mirac/PycharmProjects/PythonProject2/.venv/lib/python3.12/site-packages/sweetviz/series_analyzer_numeric.py:25: FutureWarning: The 'mad' method is deprecated and will be removed in a future version. To compute the same result, you may do `(df - df.mean()).abs().mean()`.\n",
      "  stats[\"mad\"] = series.mad()\n",
      "/Users/mirac/PycharmProjects/PythonProject2/.venv/lib/python3.12/site-packages/sweetviz/series_analyzer_numeric.py:25: FutureWarning: The 'mad' method is deprecated and will be removed in a future version. To compute the same result, you may do `(df - df.mean()).abs().mean()`.\n",
      "  stats[\"mad\"] = series.mad()\n",
      "/Users/mirac/PycharmProjects/PythonProject2/.venv/lib/python3.12/site-packages/sweetviz/series_analyzer_numeric.py:25: FutureWarning: The 'mad' method is deprecated and will be removed in a future version. To compute the same result, you may do `(df - df.mean()).abs().mean()`.\n",
      "  stats[\"mad\"] = series.mad()\n",
      "/Users/mirac/PycharmProjects/PythonProject2/.venv/lib/python3.12/site-packages/sweetviz/series_analyzer_numeric.py:25: FutureWarning: The 'mad' method is deprecated and will be removed in a future version. To compute the same result, you may do `(df - df.mean()).abs().mean()`.\n",
      "  stats[\"mad\"] = series.mad()\n",
      "/Users/mirac/PycharmProjects/PythonProject2/.venv/lib/python3.12/site-packages/sweetviz/series_analyzer_numeric.py:25: FutureWarning: The 'mad' method is deprecated and will be removed in a future version. To compute the same result, you may do `(df - df.mean()).abs().mean()`.\n",
      "  stats[\"mad\"] = series.mad()\n",
      "/Users/mirac/PycharmProjects/PythonProject2/.venv/lib/python3.12/site-packages/sweetviz/series_analyzer_numeric.py:25: FutureWarning: The 'mad' method is deprecated and will be removed in a future version. To compute the same result, you may do `(df - df.mean()).abs().mean()`.\n",
      "  stats[\"mad\"] = series.mad()\n",
      "/Users/mirac/PycharmProjects/PythonProject2/.venv/lib/python3.12/site-packages/sweetviz/series_analyzer_numeric.py:25: FutureWarning: The 'mad' method is deprecated and will be removed in a future version. To compute the same result, you may do `(df - df.mean()).abs().mean()`.\n",
      "  stats[\"mad\"] = series.mad()\n",
      "/Users/mirac/PycharmProjects/PythonProject2/.venv/lib/python3.12/site-packages/sweetviz/series_analyzer_numeric.py:25: FutureWarning: The 'mad' method is deprecated and will be removed in a future version. To compute the same result, you may do `(df - df.mean()).abs().mean()`.\n",
      "  stats[\"mad\"] = series.mad()\n",
      "/Users/mirac/PycharmProjects/PythonProject2/.venv/lib/python3.12/site-packages/sweetviz/series_analyzer_numeric.py:25: FutureWarning: The 'mad' method is deprecated and will be removed in a future version. To compute the same result, you may do `(df - df.mean()).abs().mean()`.\n",
      "  stats[\"mad\"] = series.mad()\n",
      "/Users/mirac/PycharmProjects/PythonProject2/.venv/lib/python3.12/site-packages/sweetviz/series_analyzer_numeric.py:25: FutureWarning: The 'mad' method is deprecated and will be removed in a future version. To compute the same result, you may do `(df - df.mean()).abs().mean()`.\n",
      "  stats[\"mad\"] = series.mad()\n",
      "/Users/mirac/PycharmProjects/PythonProject2/.venv/lib/python3.12/site-packages/sweetviz/series_analyzer_numeric.py:25: FutureWarning: The 'mad' method is deprecated and will be removed in a future version. To compute the same result, you may do `(df - df.mean()).abs().mean()`.\n",
      "  stats[\"mad\"] = series.mad()\n",
      "/Users/mirac/PycharmProjects/PythonProject2/.venv/lib/python3.12/site-packages/sweetviz/series_analyzer_numeric.py:25: FutureWarning: The 'mad' method is deprecated and will be removed in a future version. To compute the same result, you may do `(df - df.mean()).abs().mean()`.\n",
      "  stats[\"mad\"] = series.mad()\n",
      "/Users/mirac/PycharmProjects/PythonProject2/.venv/lib/python3.12/site-packages/sweetviz/series_analyzer_numeric.py:25: FutureWarning: The 'mad' method is deprecated and will be removed in a future version. To compute the same result, you may do `(df - df.mean()).abs().mean()`.\n",
      "  stats[\"mad\"] = series.mad()\n",
      "/Users/mirac/PycharmProjects/PythonProject2/.venv/lib/python3.12/site-packages/sweetviz/series_analyzer_numeric.py:25: FutureWarning: The 'mad' method is deprecated and will be removed in a future version. To compute the same result, you may do `(df - df.mean()).abs().mean()`.\n",
      "  stats[\"mad\"] = series.mad()\n",
      "/Users/mirac/PycharmProjects/PythonProject2/.venv/lib/python3.12/site-packages/sweetviz/series_analyzer_numeric.py:25: FutureWarning: The 'mad' method is deprecated and will be removed in a future version. To compute the same result, you may do `(df - df.mean()).abs().mean()`.\n",
      "  stats[\"mad\"] = series.mad()\n",
      "/Users/mirac/PycharmProjects/PythonProject2/.venv/lib/python3.12/site-packages/sweetviz/series_analyzer_numeric.py:25: FutureWarning: The 'mad' method is deprecated and will be removed in a future version. To compute the same result, you may do `(df - df.mean()).abs().mean()`.\n",
      "  stats[\"mad\"] = series.mad()\n",
      "/Users/mirac/PycharmProjects/PythonProject2/.venv/lib/python3.12/site-packages/sweetviz/series_analyzer_numeric.py:25: FutureWarning: The 'mad' method is deprecated and will be removed in a future version. To compute the same result, you may do `(df - df.mean()).abs().mean()`.\n",
      "  stats[\"mad\"] = series.mad()\n",
      "/Users/mirac/PycharmProjects/PythonProject2/.venv/lib/python3.12/site-packages/sweetviz/series_analyzer_numeric.py:25: FutureWarning: The 'mad' method is deprecated and will be removed in a future version. To compute the same result, you may do `(df - df.mean()).abs().mean()`.\n",
      "  stats[\"mad\"] = series.mad()\n",
      "/Users/mirac/PycharmProjects/PythonProject2/.venv/lib/python3.12/site-packages/sweetviz/series_analyzer_numeric.py:25: FutureWarning: The 'mad' method is deprecated and will be removed in a future version. To compute the same result, you may do `(df - df.mean()).abs().mean()`.\n",
      "  stats[\"mad\"] = series.mad()\n",
      "/Users/mirac/PycharmProjects/PythonProject2/.venv/lib/python3.12/site-packages/sweetviz/series_analyzer_numeric.py:25: FutureWarning: The 'mad' method is deprecated and will be removed in a future version. To compute the same result, you may do `(df - df.mean()).abs().mean()`.\n",
      "  stats[\"mad\"] = series.mad()\n",
      "/Users/mirac/PycharmProjects/PythonProject2/.venv/lib/python3.12/site-packages/sweetviz/series_analyzer_numeric.py:25: FutureWarning: The 'mad' method is deprecated and will be removed in a future version. To compute the same result, you may do `(df - df.mean()).abs().mean()`.\n",
      "  stats[\"mad\"] = series.mad()\n",
      "/Users/mirac/PycharmProjects/PythonProject2/.venv/lib/python3.12/site-packages/sweetviz/series_analyzer_numeric.py:25: FutureWarning: The 'mad' method is deprecated and will be removed in a future version. To compute the same result, you may do `(df - df.mean()).abs().mean()`.\n",
      "  stats[\"mad\"] = series.mad()\n",
      "/Users/mirac/PycharmProjects/PythonProject2/.venv/lib/python3.12/site-packages/sweetviz/series_analyzer_numeric.py:25: FutureWarning: The 'mad' method is deprecated and will be removed in a future version. To compute the same result, you may do `(df - df.mean()).abs().mean()`.\n",
      "  stats[\"mad\"] = series.mad()\n"
     ]
    },
    {
     "data": {
      "text/html": [
       "\n",
       "        <iframe\n",
       "            width=\"1000\"\n",
       "            height=\"600\"\n",
       "            src=\"sweetviz_compare.html\"\n",
       "            frameborder=\"0\"\n",
       "            allowfullscreen\n",
       "            \n",
       "        ></iframe>\n",
       "        "
      ],
      "text/plain": [
       "<IPython.lib.display.IFrame at 0x30c377170>"
      ]
     },
     "execution_count": 20,
     "metadata": {},
     "output_type": "execute_result"
    }
   ],
   "source": [
    "import sweetviz as sv\n",
    "from IPython.display import IFrame\n",
    "import numpy as np, warnings\n",
    "np.warnings = warnings \n",
    "# Clean both datasets\n",
    "df1 = data_q1.copy()\n",
    "df1.columns = df1.columns.str.strip()\n",
    "df1[\"Life expectancy\"] = pd.to_numeric(df1[\"Life expectancy\"], errors=\"coerce\")\n",
    "df1 = df1[df1[\"Life expectancy\"].notna()]\n",
    "\n",
    "df2 = data_q2.copy()\n",
    "df2.columns = df2.columns.str.strip()\n",
    "df2[\"Life expectancy\"] = pd.to_numeric(df2[\"Life expectancy\"], errors=\"coerce\")\n",
    "df2 = df2[df2[\"Life expectancy\"].notna()]\n",
    "\n",
    "# Compare datasets\n",
    "compare_report = sv.compare([df1, \"Dataset 1\"], [df2, \"Dataset 2\"], target_feat=\"Life expectancy\")\n",
    "\n",
    "# Show\n",
    "IFrame(\"sweetviz_compare.html\", width=1000, height=600)\n",
    "\n"
   ]
  },
  {
   "cell_type": "code",
   "execution_count": 27,
   "id": "da33cd79-0e9c-43b4-a23f-dc8a95b27d76",
   "metadata": {},
   "outputs": [
    {
     "name": "stderr",
     "output_type": "stream",
     "text": [
      "/Users/mirac/PycharmProjects/PythonProject2/.venv/lib/python3.12/site-packages/sweetviz/dataframe_report.py:74: FutureWarning: iteritems is deprecated and will be removed in a future version. Use .items instead.\n",
      "  all_source_names = [cur_name for cur_name, cur_series in source_df.iteritems()]\n",
      "/Users/mirac/PycharmProjects/PythonProject2/.venv/lib/python3.12/site-packages/sweetviz/dataframe_report.py:92: FutureWarning: iteritems is deprecated and will be removed in a future version. Use .items instead.\n",
      "  all_compare_names = [cur_name for cur_name, cur_series in compare_df.iteritems()]\n",
      "/Users/mirac/PycharmProjects/PythonProject2/.venv/lib/python3.12/site-packages/sweetviz/dataframe_report.py:109: FutureWarning: iteritems is deprecated and will be removed in a future version. Use .items instead.\n",
      "  filtered_series_names_in_source = [cur_name for cur_name, cur_series in source_df.iteritems()\n"
     ]
    },
    {
     "data": {
      "application/vnd.jupyter.widget-view+json": {
       "model_id": "f7d3f97e373145b1a5b268de512cbb09",
       "version_major": 2,
       "version_minor": 0
      },
      "text/plain": [
       "                                             |         | [  0%]   00:00 -> (? left)"
      ]
     },
     "metadata": {},
     "output_type": "display_data"
    },
    {
     "name": "stderr",
     "output_type": "stream",
     "text": [
      "/Users/mirac/PycharmProjects/PythonProject2/.venv/lib/python3.12/site-packages/sweetviz/series_analyzer_numeric.py:25: FutureWarning: The 'mad' method is deprecated and will be removed in a future version. To compute the same result, you may do `(df - df.mean()).abs().mean()`.\n",
      "  stats[\"mad\"] = series.mad()\n",
      "/Users/mirac/PycharmProjects/PythonProject2/.venv/lib/python3.12/site-packages/sweetviz/series_analyzer_numeric.py:25: FutureWarning: The 'mad' method is deprecated and will be removed in a future version. To compute the same result, you may do `(df - df.mean()).abs().mean()`.\n",
      "  stats[\"mad\"] = series.mad()\n",
      "/Users/mirac/PycharmProjects/PythonProject2/.venv/lib/python3.12/site-packages/sweetviz/series_analyzer_numeric.py:25: FutureWarning: The 'mad' method is deprecated and will be removed in a future version. To compute the same result, you may do `(df - df.mean()).abs().mean()`.\n",
      "  stats[\"mad\"] = series.mad()\n",
      "/Users/mirac/PycharmProjects/PythonProject2/.venv/lib/python3.12/site-packages/sweetviz/series_analyzer_numeric.py:25: FutureWarning: The 'mad' method is deprecated and will be removed in a future version. To compute the same result, you may do `(df - df.mean()).abs().mean()`.\n",
      "  stats[\"mad\"] = series.mad()\n",
      "/Users/mirac/PycharmProjects/PythonProject2/.venv/lib/python3.12/site-packages/sweetviz/series_analyzer_numeric.py:25: FutureWarning: The 'mad' method is deprecated and will be removed in a future version. To compute the same result, you may do `(df - df.mean()).abs().mean()`.\n",
      "  stats[\"mad\"] = series.mad()\n",
      "/Users/mirac/PycharmProjects/PythonProject2/.venv/lib/python3.12/site-packages/sweetviz/series_analyzer_numeric.py:25: FutureWarning: The 'mad' method is deprecated and will be removed in a future version. To compute the same result, you may do `(df - df.mean()).abs().mean()`.\n",
      "  stats[\"mad\"] = series.mad()\n",
      "/Users/mirac/PycharmProjects/PythonProject2/.venv/lib/python3.12/site-packages/sweetviz/series_analyzer_numeric.py:25: FutureWarning: The 'mad' method is deprecated and will be removed in a future version. To compute the same result, you may do `(df - df.mean()).abs().mean()`.\n",
      "  stats[\"mad\"] = series.mad()\n",
      "/Users/mirac/PycharmProjects/PythonProject2/.venv/lib/python3.12/site-packages/sweetviz/series_analyzer_numeric.py:25: FutureWarning: The 'mad' method is deprecated and will be removed in a future version. To compute the same result, you may do `(df - df.mean()).abs().mean()`.\n",
      "  stats[\"mad\"] = series.mad()\n",
      "/Users/mirac/PycharmProjects/PythonProject2/.venv/lib/python3.12/site-packages/sweetviz/series_analyzer_numeric.py:25: FutureWarning: The 'mad' method is deprecated and will be removed in a future version. To compute the same result, you may do `(df - df.mean()).abs().mean()`.\n",
      "  stats[\"mad\"] = series.mad()\n",
      "/Users/mirac/PycharmProjects/PythonProject2/.venv/lib/python3.12/site-packages/sweetviz/series_analyzer_numeric.py:25: FutureWarning: The 'mad' method is deprecated and will be removed in a future version. To compute the same result, you may do `(df - df.mean()).abs().mean()`.\n",
      "  stats[\"mad\"] = series.mad()\n",
      "/Users/mirac/PycharmProjects/PythonProject2/.venv/lib/python3.12/site-packages/sweetviz/series_analyzer_numeric.py:25: FutureWarning: The 'mad' method is deprecated and will be removed in a future version. To compute the same result, you may do `(df - df.mean()).abs().mean()`.\n",
      "  stats[\"mad\"] = series.mad()\n",
      "/Users/mirac/PycharmProjects/PythonProject2/.venv/lib/python3.12/site-packages/sweetviz/series_analyzer_numeric.py:25: FutureWarning: The 'mad' method is deprecated and will be removed in a future version. To compute the same result, you may do `(df - df.mean()).abs().mean()`.\n",
      "  stats[\"mad\"] = series.mad()\n",
      "/Users/mirac/PycharmProjects/PythonProject2/.venv/lib/python3.12/site-packages/sweetviz/series_analyzer_numeric.py:25: FutureWarning: The 'mad' method is deprecated and will be removed in a future version. To compute the same result, you may do `(df - df.mean()).abs().mean()`.\n",
      "  stats[\"mad\"] = series.mad()\n",
      "/Users/mirac/PycharmProjects/PythonProject2/.venv/lib/python3.12/site-packages/sweetviz/series_analyzer_numeric.py:25: FutureWarning: The 'mad' method is deprecated and will be removed in a future version. To compute the same result, you may do `(df - df.mean()).abs().mean()`.\n",
      "  stats[\"mad\"] = series.mad()\n",
      "/Users/mirac/PycharmProjects/PythonProject2/.venv/lib/python3.12/site-packages/sweetviz/series_analyzer_numeric.py:25: FutureWarning: The 'mad' method is deprecated and will be removed in a future version. To compute the same result, you may do `(df - df.mean()).abs().mean()`.\n",
      "  stats[\"mad\"] = series.mad()\n",
      "/Users/mirac/PycharmProjects/PythonProject2/.venv/lib/python3.12/site-packages/sweetviz/series_analyzer_numeric.py:25: FutureWarning: The 'mad' method is deprecated and will be removed in a future version. To compute the same result, you may do `(df - df.mean()).abs().mean()`.\n",
      "  stats[\"mad\"] = series.mad()\n",
      "/Users/mirac/PycharmProjects/PythonProject2/.venv/lib/python3.12/site-packages/sweetviz/series_analyzer_numeric.py:25: FutureWarning: The 'mad' method is deprecated and will be removed in a future version. To compute the same result, you may do `(df - df.mean()).abs().mean()`.\n",
      "  stats[\"mad\"] = series.mad()\n",
      "/Users/mirac/PycharmProjects/PythonProject2/.venv/lib/python3.12/site-packages/sweetviz/series_analyzer_numeric.py:25: FutureWarning: The 'mad' method is deprecated and will be removed in a future version. To compute the same result, you may do `(df - df.mean()).abs().mean()`.\n",
      "  stats[\"mad\"] = series.mad()\n",
      "/Users/mirac/PycharmProjects/PythonProject2/.venv/lib/python3.12/site-packages/sweetviz/series_analyzer_numeric.py:25: FutureWarning: The 'mad' method is deprecated and will be removed in a future version. To compute the same result, you may do `(df - df.mean()).abs().mean()`.\n",
      "  stats[\"mad\"] = series.mad()\n",
      "/Users/mirac/PycharmProjects/PythonProject2/.venv/lib/python3.12/site-packages/sweetviz/series_analyzer_numeric.py:25: FutureWarning: The 'mad' method is deprecated and will be removed in a future version. To compute the same result, you may do `(df - df.mean()).abs().mean()`.\n",
      "  stats[\"mad\"] = series.mad()\n",
      "/Users/mirac/PycharmProjects/PythonProject2/.venv/lib/python3.12/site-packages/sweetviz/series_analyzer_numeric.py:25: FutureWarning: The 'mad' method is deprecated and will be removed in a future version. To compute the same result, you may do `(df - df.mean()).abs().mean()`.\n",
      "  stats[\"mad\"] = series.mad()\n",
      "/Users/mirac/PycharmProjects/PythonProject2/.venv/lib/python3.12/site-packages/sweetviz/series_analyzer_numeric.py:25: FutureWarning: The 'mad' method is deprecated and will be removed in a future version. To compute the same result, you may do `(df - df.mean()).abs().mean()`.\n",
      "  stats[\"mad\"] = series.mad()\n",
      "/Users/mirac/PycharmProjects/PythonProject2/.venv/lib/python3.12/site-packages/sweetviz/series_analyzer_numeric.py:25: FutureWarning: The 'mad' method is deprecated and will be removed in a future version. To compute the same result, you may do `(df - df.mean()).abs().mean()`.\n",
      "  stats[\"mad\"] = series.mad()\n",
      "/Users/mirac/PycharmProjects/PythonProject2/.venv/lib/python3.12/site-packages/sweetviz/series_analyzer_numeric.py:25: FutureWarning: The 'mad' method is deprecated and will be removed in a future version. To compute the same result, you may do `(df - df.mean()).abs().mean()`.\n",
      "  stats[\"mad\"] = series.mad()\n",
      "/Users/mirac/PycharmProjects/PythonProject2/.venv/lib/python3.12/site-packages/sweetviz/series_analyzer_numeric.py:25: FutureWarning: The 'mad' method is deprecated and will be removed in a future version. To compute the same result, you may do `(df - df.mean()).abs().mean()`.\n",
      "  stats[\"mad\"] = series.mad()\n",
      "/Users/mirac/PycharmProjects/PythonProject2/.venv/lib/python3.12/site-packages/sweetviz/series_analyzer_numeric.py:25: FutureWarning: The 'mad' method is deprecated and will be removed in a future version. To compute the same result, you may do `(df - df.mean()).abs().mean()`.\n",
      "  stats[\"mad\"] = series.mad()\n",
      "/Users/mirac/PycharmProjects/PythonProject2/.venv/lib/python3.12/site-packages/sweetviz/series_analyzer_numeric.py:25: FutureWarning: The 'mad' method is deprecated and will be removed in a future version. To compute the same result, you may do `(df - df.mean()).abs().mean()`.\n",
      "  stats[\"mad\"] = series.mad()\n",
      "/Users/mirac/PycharmProjects/PythonProject2/.venv/lib/python3.12/site-packages/sweetviz/series_analyzer_numeric.py:25: FutureWarning: The 'mad' method is deprecated and will be removed in a future version. To compute the same result, you may do `(df - df.mean()).abs().mean()`.\n",
      "  stats[\"mad\"] = series.mad()\n",
      "/Users/mirac/PycharmProjects/PythonProject2/.venv/lib/python3.12/site-packages/sweetviz/series_analyzer_numeric.py:25: FutureWarning: The 'mad' method is deprecated and will be removed in a future version. To compute the same result, you may do `(df - df.mean()).abs().mean()`.\n",
      "  stats[\"mad\"] = series.mad()\n",
      "/Users/mirac/PycharmProjects/PythonProject2/.venv/lib/python3.12/site-packages/sweetviz/series_analyzer_numeric.py:25: FutureWarning: The 'mad' method is deprecated and will be removed in a future version. To compute the same result, you may do `(df - df.mean()).abs().mean()`.\n",
      "  stats[\"mad\"] = series.mad()\n",
      "/Users/mirac/PycharmProjects/PythonProject2/.venv/lib/python3.12/site-packages/sweetviz/series_analyzer_numeric.py:25: FutureWarning: The 'mad' method is deprecated and will be removed in a future version. To compute the same result, you may do `(df - df.mean()).abs().mean()`.\n",
      "  stats[\"mad\"] = series.mad()\n",
      "/Users/mirac/PycharmProjects/PythonProject2/.venv/lib/python3.12/site-packages/sweetviz/series_analyzer_numeric.py:25: FutureWarning: The 'mad' method is deprecated and will be removed in a future version. To compute the same result, you may do `(df - df.mean()).abs().mean()`.\n",
      "  stats[\"mad\"] = series.mad()\n",
      "/Users/mirac/PycharmProjects/PythonProject2/.venv/lib/python3.12/site-packages/sweetviz/series_analyzer_numeric.py:25: FutureWarning: The 'mad' method is deprecated and will be removed in a future version. To compute the same result, you may do `(df - df.mean()).abs().mean()`.\n",
      "  stats[\"mad\"] = series.mad()\n",
      "/Users/mirac/PycharmProjects/PythonProject2/.venv/lib/python3.12/site-packages/sweetviz/series_analyzer_numeric.py:25: FutureWarning: The 'mad' method is deprecated and will be removed in a future version. To compute the same result, you may do `(df - df.mean()).abs().mean()`.\n",
      "  stats[\"mad\"] = series.mad()\n"
     ]
    },
    {
     "data": {
      "text/html": [
       "\n",
       "        <iframe\n",
       "            width=\"1000\"\n",
       "            height=\"600\"\n",
       "            src=\"sweetviz_intra_gdp.html\"\n",
       "            frameborder=\"0\"\n",
       "            allowfullscreen\n",
       "            \n",
       "        ></iframe>\n",
       "        "
      ],
      "text/plain": [
       "<IPython.lib.display.IFrame at 0x31aabee10>"
      ]
     },
     "execution_count": 27,
     "metadata": {},
     "output_type": "execute_result"
    }
   ],
   "source": [
    "import sweetviz as sv\n",
    "from IPython.display import IFrame\n",
    "import numpy as np, warnings\n",
    "np.warnings = warnings\n",
    "\n",
    "# df1 prepared earlier from data_q1, columns already stripped\n",
    "target = \"Life expectancy\"\n",
    "\n",
    "# Build a boolean mask\n",
    "gdp_med = df1[\"GDP\"].median()\n",
    "mask = df1[\"GDP\"] >= gdp_med\n",
    "\n",
    "intra_report = sv.compare_intra(\n",
    "    df1,\n",
    "    mask,\n",
    "    [\"High GDP\", \"Low GDP\"],\n",
    "    target_feat=target\n",
    ")\n",
    "\n",
    "IFrame(\"sweetviz_intra_gdp.html\", width=1000, height=600)\n"
   ]
  },
  {
   "cell_type": "code",
   "execution_count": 24,
   "id": "4c642578-a3c3-4645-b2f5-9fc4a136c2b2",
   "metadata": {},
   "outputs": [
    {
     "name": "stdout",
     "output_type": "stream",
     "text": [
      "'index'\n",
      "'Life expectancy'\n",
      "'Adult Mortality'\n",
      "'infant deaths'\n",
      "'Alcohol'\n",
      "'percentage expenditure'\n",
      "'Measles'\n",
      "'BMI'\n",
      "'under-five deaths'\n",
      "'Polio'\n",
      "'Total expenditure'\n",
      "'Diphtheria'\n",
      "'HIV/AIDS'\n",
      "'GDP'\n",
      "'Population'\n",
      "'thinness  1-19 years'\n",
      "'Schooling'\n"
     ]
    }
   ],
   "source": [
    "for c in df1.columns: \n",
    "    print(repr(c))"
   ]
  },
  {
   "cell_type": "markdown",
   "id": "081be27e-d3e8-4b89-950f-361f00ffe8ba",
   "metadata": {},
   "source": [
    "## Explanation of the three reports\n",
    "- In my first Sweetviz report (analyze), I noticed that life expectancy is related to features like Schooling, GDP, and health expenditures, and decreases with the increasing Adult Mortality and HIV/AIDS rate. Missing values were present in some features, such as Alcohol consumption, BMI, Polio, and Total expenditure, which is an issue that could influence the performance of the model. In conclusion, this report found that countries with better education and healthcare tend to have longer life expectancy.\n",
    "\n",
    "- In the second report (compare), I compared data_q1 with data_q2. While these data had similar behavior, the distributions of certain features looked different because they were processed differently on each dataset. Data_q2, for instance, is more normal and does not have as many missing values, so it can be used for investigation. This demonstrates the degree to which the manner in which we develop and clean datasets can change the effect of a model.\n",
    "\n",
    "- In the third report (compare_intra), I compared 2 groups within the dataset (high GDP versus low GDP countries, eg). These findings confirmed that countries with high GDP have relatively longer life expectancies, more people are educated, and lower mortality. Conversely, the pattern was reversed for low-GDP countries. This indicates that the correlation between these different features and life expectancy in all countries was not equivalent across them. When I checked on linear regression, the quality of the data is how much it matters. If the dataset lacks any input or contains any values inconsistent with each other from data_q1, the regression model would have lower accuracy. On the contrary, a cleaner set of data (like data_q2) would yield better regression results by improving interpretation and making more accurate predictions about which set of features is more likely to fit target variables. The intra comparison also shows that one regression model may do in part by completely underperforming for both groups (rich vs poor countries). Thus, model performance might be satisfactory only to one group but not the other.\n",
    "\n",
    "  In summary, the three reports demonstrated that data quality, preprocessing, and variable sub-group differences determine how effectively a linear regression model predicts life expectancy. That cleaner data increases accuracy, and performing subgroup analysis reveals scenarios where one model (or worse) is insufficient."
   ]
  },
  {
   "cell_type": "markdown",
   "id": "521de2a6-4e81-4bde-b697-21d93c1cdc0b",
   "metadata": {},
   "source": [
    "## Impact on linear regression model perfomance\n",
    "#### 1. Quality of Data (Analyze Report)\n",
    "\n",
    "- Missing values in Alcohol, BMI, Polio, etc., may reduce regression accuracy.\n",
    "\n",
    "- Dropping or imputing them changes model stability.\n",
    "\n",
    "- Features with strong linear correlations (e.g., Schooling with Life expectancy) improve regression performance.\n",
    "\n",
    "#### 2. Differences Across Datasets (Compare Report)\n",
    "- If data_q2 is normalized/standardized, regression coefficients are more stable and interpretable.\n",
    "\n",
    "- A noisier dataset (data_q1) may yield lower R² and higher error metrics.\n",
    "\n",
    "- Thus, preprocessing has a direct impact on regression model performance.\n",
    "\n",
    "#### 3. Subgroup Effects (Compare Intra Report)\n",
    "- Regression fit may differ across groups (e.g., High GDP vs Low GDP countries).\n",
    "\n",
    "- The model might underperform if trained on one group but tested on another (generalization problem).\n",
    "\n",
    "- Observing subgroup differences suggests the possible need for interaction terms or separate models."
   ]
  },
  {
   "cell_type": "markdown",
   "id": "6d101192-17fe-4f63-b73c-67776ef6826d",
   "metadata": {},
   "source": [
    "## Linear Regression Graph"
   ]
  },
  {
   "cell_type": "code",
   "execution_count": 28,
   "id": "7e231f87-f7f6-4668-9e75-454744eac33a",
   "metadata": {},
   "outputs": [
    {
     "name": "stderr",
     "output_type": "stream",
     "text": [
      "/Users/mirac/PycharmProjects/PythonProject2/.venv/lib/python3.12/site-packages/sklearn/utils/validation.py:2749: UserWarning: X does not have valid feature names, but LinearRegression was fitted with feature names\n",
      "  warnings.warn(\n"
     ]
    },
    {
     "data": {
      "image/png": "[encoded data removed]",
      "text/plain": [
       "<Figure size 800x600 with 1 Axes>"
      ]
     },
     "metadata": {},
     "output_type": "display_data"
    }
   ],
   "source": [
    "import pandas as pd\n",
    "import numpy as np\n",
    "import matplotlib.pyplot as plt\n",
    "from sklearn.linear_model import LinearRegression\n",
    "\n",
    "# Prep dataset\n",
    "df = data_q2.copy()\n",
    "df.columns = df.columns.str.strip()\n",
    "df = df.dropna(subset=[\"Life expectancy\", \"Schooling\"])   # drop rows missing target or predictor\n",
    "\n",
    "# Predictor\n",
    "X = df[[\"Schooling\"]] \n",
    "y = df[\"Life expectancy\"]\n",
    "\n",
    "# Linear Regression fit\n",
    "model = LinearRegression()\n",
    "model.fit(X, y)\n",
    "\n",
    "# Line prediction\n",
    "x_range = np.linspace(X.min(), X.max(), 100).reshape(-1, 1)\n",
    "y_pred = model.predict(x_range)\n",
    "\n",
    "# Plot graph\n",
    "plt.figure(figsize=(8,6))\n",
    "plt.scatter(X, y, alpha=0.6, label=\"Data points\")\n",
    "plt.plot(x_range, y_pred, color=\"red\", linewidth=2, label=\"Regression line\")\n",
    "plt.xlabel(\"Schooling\")\n",
    "plt.ylabel(\"Life expectancy\")\n",
    "plt.title(\"Linear Regression: Schooling vs Life Expectancy\")\n",
    "plt.legend()\n",
    "plt.show()\n"
   ]
  },
  {
   "cell_type": "code",
   "execution_count": null,
   "id": "89e38782-6ab2-46b4-846f-18ac108a73a1",
   "metadata": {},
   "outputs": [],
   "source": []
  }
 ],
 "metadata": {
  "kernelspec": {
   "display_name": "Python 3 (ipykernel)",
   "language": "python",
   "name": "python3"
  },
  "language_info": {
   "codemirror_mode": {
    "name": "ipython",
    "version": 3
   },
   "file_extension": ".py",
   "mimetype": "text/x-python",
   "name": "python",
   "nbconvert_exporter": "python",
   "pygments_lexer": "ipython3",
   "version": "3.12.10"
  }
 },
 "nbformat": 4,
 "nbformat_minor": 5
}
